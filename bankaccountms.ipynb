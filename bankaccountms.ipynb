{
  "nbformat": 4,
  "nbformat_minor": 0,
  "metadata": {
    "colab": {
      "provenance": [],
      "authorship_tag": "ABX9TyNCqxCD98v62UHoHcojACXe",
      "include_colab_link": true
    },
    "kernelspec": {
      "name": "python3",
      "display_name": "Python 3"
    },
    "language_info": {
      "name": "python"
    }
  },
  "cells": [
    {
      "cell_type": "markdown",
      "metadata": {
        "id": "view-in-github",
        "colab_type": "text"
      },
      "source": [
        "<a href=\"https://colab.research.google.com/github/NittinD/A-simple-bank-account-management-system/blob/main/bankaccountms.ipynb\" target=\"_parent\"><img src=\"https://colab.research.google.com/assets/colab-badge.svg\" alt=\"Open In Colab\"/></a>"
      ]
    },
    {
      "cell_type": "markdown",
      "source": [],
      "metadata": {
        "id": "d8jDlBMivVT8"
      }
    },
    {
      "cell_type": "code",
      "source": [
        "class BankAcc:\n",
        "    def __init__(self, acc_no, balance, name):\n",
        "        self.acc_no = acc_no\n",
        "        self.bal = balance\n",
        "        self.name = name\n",
        "\n",
        "    def deposit(self, amount):\n",
        "        \"\"\"Deposit `amount` into the account.\"\"\"\n",
        "        self.bal += amount\n",
        "\n",
        "    def withdraw(self, amount):\n",
        "        \"\"\"Withdraw `amount` from the account if sufficient balance is available.\"\"\"\n",
        "        if amount > self.bal:\n",
        "            raise ValueError('Insufficient balance')\n",
        "        else:\n",
        "            self.bal -= amount\n",
        "\n",
        "    def transfer(self, recipient, amount):\n",
        "        \"\"\"Transfer `amount` to another account (`recipient`) if sufficient balance is available.\"\"\"\n",
        "        if amount > self.bal:\n",
        "            raise ValueError('Insufficient balance')\n",
        "        else:\n",
        "            self.bal -= amount\n",
        "            recipient.deposit(amount)\n",
        "            return f'Transferred {amount} to {recipient.name} from {self.name}'\n",
        "\n",
        "    def __str__(self):\n",
        "        return f\"Account {self.acc_no}: {self.name}, Balance: {self.bal}\"\n"
      ],
      "metadata": {
        "id": "JsfTGIGjzezJ"
      },
      "execution_count": 8,
      "outputs": []
    },
    {
      "cell_type": "code",
      "source": [
        "acc1 = BankAcc(123, 1000, \"John Doe\")\n",
        "acc2 = BankAcc(456, 2000, \"Jane Smith\")\n",
        "\n",
        "    # Perform operations\n",
        "acc1.deposit(500)\n",
        "acc2.withdraw(100)\n",
        "acc1.transfer(acc2, 200)\n",
        "\n",
        "    # Assert final balances\n",
        "assert acc1.bal == 1300\n",
        "assert acc2.bal == 2100"
      ],
      "metadata": {
        "id": "5T4mbgUw3UkU"
      },
      "execution_count": 9,
      "outputs": []
    },
    {
      "cell_type": "code",
      "source": [
        "# Creating two bank accounts\n",
        "acc1 = BankAcc(101, 5000, 'John Doe')\n",
        "acc2 = BankAcc(102, 3000, 'Jane Smith')\n",
        "\n",
        "# Deposit money into John's account\n",
        "acc1.deposit(1000)\n",
        "print(acc1)  # Account 101: John Doe, Balance: 6000\n",
        "\n",
        "# Withdraw money from John's account\n",
        "acc1.withdraw(2000)\n",
        "print(acc1)  # Account 101: John Doe, Balance: 4000\n",
        "\n",
        "# Transfer money from John's account to Jane's account\n",
        "print(acc1.transfer(acc2, 1500))  # Transferred 1500 to Jane Smith from John Doe\n",
        "print(acc1)  # Account 101: John Doe, Balance: 2500\n",
        "print(acc2)  # Account 102: Jane Smith, Balance: 4500\n",
        "\n",
        "# Try to withdraw more than the balance (should raise an error)\n",
        "try:\n",
        "    acc1.withdraw(3000)  # Should raise an error since balance is 2500\n",
        "except ValueError as e:\n",
        "    print(e)  # Insufficient balance\n"
      ],
      "metadata": {
        "colab": {
          "base_uri": "https://localhost:8080/"
        },
        "id": "g2DdsGKT3X6M",
        "outputId": "5d1cbd3b-5f75-423c-ba4f-c75f400b077b"
      },
      "execution_count": 10,
      "outputs": [
        {
          "output_type": "stream",
          "name": "stdout",
          "text": [
            "Account 101: John Doe, Balance: 6000\n",
            "Account 101: John Doe, Balance: 4000\n",
            "Transferred 1500 to Jane Smith from John Doe\n",
            "Account 101: John Doe, Balance: 2500\n",
            "Account 102: Jane Smith, Balance: 4500\n",
            "Insufficient balance\n"
          ]
        }
      ]
    },
    {
      "cell_type": "code",
      "source": [],
      "metadata": {
        "id": "2XlB-Uq63aRs"
      },
      "execution_count": null,
      "outputs": []
    }
  ]
}