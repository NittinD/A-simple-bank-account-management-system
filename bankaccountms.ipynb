{
  "nbformat": 4,
  "nbformat_minor": 0,
  "metadata": {
    "colab": {
      "provenance": [],
      "authorship_tag": "ABX9TyMrgxt7r9qWRGzecLUQFeTw",
      "include_colab_link": true
    },
    "kernelspec": {
      "name": "python3",
      "display_name": "Python 3"
    },
    "language_info": {
      "name": "python"
    }
  },
  "cells": [
    {
      "cell_type": "markdown",
      "metadata": {
        "id": "view-in-github",
        "colab_type": "text"
      },
      "source": [
        "<a href=\"https://colab.research.google.com/github/NittinD/A-simple-bank-account-management-system/blob/main/bankaccountms.ipynb\" target=\"_parent\"><img src=\"https://colab.research.google.com/assets/colab-badge.svg\" alt=\"Open In Colab\"/></a>"
      ]
    },
    {
      "cell_type": "markdown",
      "source": [],
      "metadata": {
        "id": "d8jDlBMivVT8"
      }
    },
    {
      "cell_type": "code",
      "source": [
        "from datetime import datetime\n",
        "from zoneinfo import ZoneInfo\n",
        "\n",
        "\n",
        "class BankAcc:\n",
        "    Total_accounts=0\n",
        "    Account_holder_name=[]\n",
        "    def __init__(self, acc_no, balance, name):\n",
        "        self.acc_no = acc_no\n",
        "        self.bal = balance\n",
        "        self.name = name\n",
        "        BankAcc.Account_holder_name.append(self.name)\n",
        "        BankAcc.Total_accounts+=1\n",
        "        return self.check()\n",
        "\n",
        "    def current_time(self):\n",
        "      return str(current_date_time.date()) + ',' + str(current_date_time.time())\n",
        "\n",
        "    def check(self):\n",
        "      print(f'welcome ,{self.name}! our bank has a total of {BankAcc.Total_accounts} customers,and you are one of most valuable.\\n')\n",
        "      print(f'your account is active,and available balance is {self.bal}.\\n')\n",
        "      if self.bal!=0:\n",
        "\n",
        "        action=input('Do you want to do proceed Y/N ')\n",
        "        if action=='y':\n",
        "          print(f\"\\nGreat! Please proceed further. If you face any inconvenience contact counter 5-they'll definitely help you\")\n",
        "        else:\n",
        "          print('Thank you for visiting our bank.Have great moments ahead')\n",
        "\n",
        "\n",
        "\n",
        "    def deposit(self, amount):\n",
        "        \"\"\"Deposit `amount` into the account.\"\"\"\n",
        "        self.bal += amount\n",
        "        current_date_time=datetime.now(ZoneInfo('Asia/Kolkata'))\n",
        "        return(f\"Congrats,{self.name}! you have successfuly deposited Rs{amount} today on {self.current_time()}\\n\"\n",
        "                  f'\\nCurrent balance in your account is Rs {self.bal}')\n",
        "\n",
        "\n",
        "    def withdraw(self, amount):\n",
        "        \"\"\"Withdraw `amount` from the account if sufficient balance is available.\"\"\"\n",
        "\n",
        "        if amount > self.bal:\n",
        "            raise ValueError('Insufficient balance')\n",
        "        else:\n",
        "            self.bal -= amount\n",
        "            print(f\"\\n{self.name} today on {self.current_time()} you had withdrawn Rs{amount}. New balance: Rs {self.bal}\")\n",
        "\n",
        "    def transfer(self, recipient, amount):\n",
        "        \"\"\"Transfer `amount` to another account (`recipient`) if sufficient balance is available.\"\"\"\n",
        "        recipient_name=recipient.name if isinstance(recipient,BankAcc) else str(recipient)\n",
        "\n",
        "        if amount > self.bal:\n",
        "            raise ValueError('Insufficient balance')\n",
        "        else:\n",
        "            self.bal -= amount\n",
        "\n",
        "\n",
        "            if isinstance(recipient,BankAcc):\n",
        "              recipient.deposit(amount)\n",
        "              print(f\"\\n{self.name} transferred Rs {amount} to {recipient.name}. New balance: {self.bal}\")\n",
        "\n",
        "            else:\n",
        "\n",
        "              print(f\"\\n{self.name} transferred Rs {amount} to {recipient}. New balance: Rs {self.bal}\")\n",
        "\n",
        "    def __str__(self):\n",
        "        return f\"Account {self.acc_no}: {self.name}, Balance: {self.bal}\"\n"
      ],
      "metadata": {
        "id": "JsfTGIGjzezJ"
      },
      "execution_count": 118,
      "outputs": []
    },
    {
      "cell_type": "code",
      "source": [
        "acc1=BankAcc(1234,10000,'klon mask')\n",
        "#acc1.check()"
      ],
      "metadata": {
        "colab": {
          "base_uri": "https://localhost:8080/"
        },
        "id": "DKtg8VtCEmkp",
        "outputId": "862f2451-0aec-48d6-87d2-04c5ad960ca1"
      },
      "execution_count": 119,
      "outputs": [
        {
          "output_type": "stream",
          "name": "stdout",
          "text": [
            "welcome ,klon mask! our bank has a total of 1 customers,and you are one of most valuable.\n",
            "\n",
            "your account is active,and available balance is 10000.\n",
            "\n",
            "Do you want to do proceed Y/N y\n",
            "\n",
            "Great! Please proceed further. If you face any inconvenience contact counter 5-they'll definitely help you\n"
          ]
        }
      ]
    },
    {
      "cell_type": "code",
      "source": [],
      "metadata": {
        "id": "FQFv47jiFckZ"
      },
      "execution_count": null,
      "outputs": []
    },
    {
      "cell_type": "code",
      "source": [
        "acc2 = BankAcc(123, 1000, \"John Doe\")\n",
        "acc3 = BankAcc(456, 2000, \"Jane Smith\")\n",
        "\n",
        "    # Perform operations\n",
        "acc1.deposit(500)\n",
        "acc2.withdraw(100)\n",
        "acc1.transfer(acc2, 200)\n",
        "\n",
        "    # Assert final balances\n",
        "assert acc1.bal == 10300\n",
        "assert acc2.bal == 1100"
      ],
      "metadata": {
        "id": "5T4mbgUw3UkU",
        "colab": {
          "base_uri": "https://localhost:8080/"
        },
        "outputId": "ac32730b-f582-4850-96cc-cf4784845e39"
      },
      "execution_count": 113,
      "outputs": [
        {
          "output_type": "stream",
          "name": "stdout",
          "text": [
            "welcome ,John Doe! our bank has a total of 2 customers,and you are one of most valuable.\n",
            "\n",
            "your account is active,and available balance is 1000.\n",
            "\n",
            "Do you want to do proceed Y/N y\n",
            "\n",
            "Great! Please proceed further. If you face any inconvenience contact counter 5-they'll definitely help you\n",
            "welcome ,Jane Smith! our bank has a total of 3 customers,and you are one of most valuable.\n",
            "\n",
            "your account is active,and available balance is 2000.\n",
            "\n",
            "Do you want to do proceed Y/N y\n",
            "\n",
            "Great! Please proceed further. If you face any inconvenience contact counter 5-they'll definitely help you\n",
            "Congrats,klon mask! you have successfuly deposited Rs500 today on 2025-04-25,10:27:06.860723\n",
            "\n",
            "Current balance in your account is Rs 10500\n",
            "\n",
            "John Doe today on 2025-04-25,10:27:06.860723 you had withdrawn Rs100. New balance: Rs 900\n",
            "Congrats,John Doe! you have successfuly deposited Rs200 today on 2025-04-25,10:27:06.860723\n",
            "\n",
            "Current balance in your account is Rs 1100\n",
            "\n",
            "klon mask transferred Rs 200 to John Doe. New balance: 10300\n"
          ]
        }
      ]
    },
    {
      "cell_type": "code",
      "source": [
        "acc4=BankAcc(32145,2000,'Nitin')"
      ],
      "metadata": {
        "colab": {
          "base_uri": "https://localhost:8080/"
        },
        "id": "qAeXnD55UX1z",
        "outputId": "6326ff87-c0bd-418e-e766-9817915b9ee1"
      },
      "execution_count": 120,
      "outputs": [
        {
          "output_type": "stream",
          "name": "stdout",
          "text": [
            "welcome ,Nitin! our bank has a total of 2 customers,and you are one of most valuable.\n",
            "\n",
            "your account is active,and available balance is 2000.\n",
            "\n",
            "Do you want to do proceed Y/N y\n",
            "\n",
            "Great! Please proceed further. If you face any inconvenience contact counter 5-they'll definitely help you\n"
          ]
        }
      ]
    },
    {
      "cell_type": "code",
      "source": [
        "acc4.bal"
      ],
      "metadata": {
        "colab": {
          "base_uri": "https://localhost:8080/"
        },
        "id": "o-Z0fsEJUsQ3",
        "outputId": "b27e10e8-bce6-4ea3-b543-21195b66b07e"
      },
      "execution_count": 87,
      "outputs": [
        {
          "output_type": "execute_result",
          "data": {
            "text/plain": [
              "2000"
            ]
          },
          "metadata": {},
          "execution_count": 87
        }
      ]
    },
    {
      "cell_type": "code",
      "source": [
        "acc4.withdraw(100)"
      ],
      "metadata": {
        "colab": {
          "base_uri": "https://localhost:8080/"
        },
        "id": "GXbvX9FHU2B9",
        "outputId": "e7ace147-111e-4b7a-fb03-f38a3c7cb442"
      },
      "execution_count": 121,
      "outputs": [
        {
          "output_type": "stream",
          "name": "stdout",
          "text": [
            "\n",
            "Nitin today on 2025-04-25,10:27:06.860723 you had withdrawn Rs100. New balance: Rs 1900\n"
          ]
        }
      ]
    },
    {
      "cell_type": "code",
      "source": [
        "acc4.transfer('home',100)"
      ],
      "metadata": {
        "colab": {
          "base_uri": "https://localhost:8080/"
        },
        "id": "N-Gy9YRZakgn",
        "outputId": "1a110256-a9fe-4aa7-91ef-96c4bf3db4ba"
      },
      "execution_count": 122,
      "outputs": [
        {
          "output_type": "stream",
          "name": "stdout",
          "text": [
            "\n",
            "Nitin transferred Rs 100 to home. New balance: Rs 1800\n"
          ]
        }
      ]
    },
    {
      "cell_type": "code",
      "source": [
        "acc4.transfer(acc1,100)"
      ],
      "metadata": {
        "colab": {
          "base_uri": "https://localhost:8080/"
        },
        "id": "x_ICny7Rek6B",
        "outputId": "7c9fc01b-9d9d-4acf-8cd4-84b361546cae"
      },
      "execution_count": 123,
      "outputs": [
        {
          "output_type": "stream",
          "name": "stdout",
          "text": [
            "\n",
            "Nitin transferred Rs 100 to klon mask. New balance: 1700\n"
          ]
        }
      ]
    },
    {
      "cell_type": "code",
      "source": [
        "# Creating two bank accounts\n",
        "acc1 = BankAcc(101, 5000, 'John Doe')\n",
        "acc2 = BankAcc(102, 3000, 'Jane Smith')\n",
        "\n",
        "# Deposit money into John's account\n",
        "acc1.deposit(1000)\n",
        "print(acc1)  # Account 101: John Doe, Balance: 6000\n",
        "\n",
        "# Withdraw money from John's account\n",
        "acc1.withdraw(2000)\n",
        "print(acc1)  # Account 101: John Doe, Balance: 4000\n",
        "\n",
        "# Transfer money from John's account to Jane's account\n",
        "print(acc1.transfer(acc2, 1500))  # Transferred 1500 to Jane Smith from John Doe\n",
        "print(acc1)  # Account 101: John Doe, Balance: 2500\n",
        "print(acc2)  # Account 102: Jane Smith, Balance: 4500\n",
        "\n",
        "# Try to withdraw more than the balance (should raise an error)\n",
        "try:\n",
        "    acc1.withdraw(3000)  # Should raise an error since balance is 2500\n",
        "except ValueError as e:\n",
        "    print(e)  # Insufficient balance\n"
      ],
      "metadata": {
        "colab": {
          "base_uri": "https://localhost:8080/"
        },
        "id": "g2DdsGKT3X6M",
        "outputId": "5d1cbd3b-5f75-423c-ba4f-c75f400b077b"
      },
      "execution_count": null,
      "outputs": [
        {
          "output_type": "stream",
          "name": "stdout",
          "text": [
            "Account 101: John Doe, Balance: 6000\n",
            "Account 101: John Doe, Balance: 4000\n",
            "Transferred 1500 to Jane Smith from John Doe\n",
            "Account 101: John Doe, Balance: 2500\n",
            "Account 102: Jane Smith, Balance: 4500\n",
            "Insufficient balance\n"
          ]
        }
      ]
    },
    {
      "cell_type": "code",
      "source": [],
      "metadata": {
        "id": "2XlB-Uq63aRs"
      },
      "execution_count": null,
      "outputs": []
    }
  ]
}